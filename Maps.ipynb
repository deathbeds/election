{
 "cells": [
  {
   "cell_type": "code",
   "execution_count": 1,
   "metadata": {},
   "outputs": [],
   "source": [
    "%reload_ext XXX.mumble"
   ]
  },
  {
   "cell_type": "code",
   "execution_count": 2,
   "metadata": {},
   "outputs": [],
   "source": [
    "\n",
    "    from requests import get\n",
    "    import requests_cache\n",
    "    import geopandas\n",
    "    from pathlib import Path\n",
    "    import zipfile\n",
    "    from io import BytesIO\n",
    "    import tempfile\n",
    "    requests_cache.install_cache(\"maps\")"
   ]
  },
  {
   "cell_type": "code",
   "execution_count": 3,
   "metadata": {},
   "outputs": [
    {
     "data": {
      "text/markdown": [
       "    %matplotlib inline"
      ],
      "text/plain": [
       "<IPython.core.display.Markdown object>"
      ]
     },
     "metadata": {},
     "output_type": "display_data"
    }
   ],
   "source": [
    "    %matplotlib inline"
   ]
  },
  {
   "cell_type": "code",
   "execution_count": 13,
   "metadata": {},
   "outputs": [
    {
     "data": {
      "text/markdown": [
       "    ---\n",
       "    urls:\n",
       "        congress12: http://www.legis.ga.gov/Joint/reapportionment/Documents/SEPT%202012/CONGRESS12-SHAPE.zip\n",
       "        vtd2016: http://www.legis.ga.gov/Joint/reapportionment/Documents/VTD2016-SHAPE.zip\n",
       "        vtd2014: http://www.legis.ga.gov/Joint/reapportionment/Documents/VTD2014-SHAPE.zip"
      ],
      "text/plain": [
       "<IPython.core.display.Markdown object>"
      ]
     },
     "metadata": {},
     "output_type": "display_data"
    }
   ],
   "source": [
    "    ---\n",
    "    urls:\n",
    "        congress12: http://www.legis.ga.gov/Joint/reapportionment/Documents/SEPT%202012/CONGRESS12-SHAPE.zip\n",
    "        vtd2016: http://www.legis.ga.gov/Joint/reapportionment/Documents/VTD2016-SHAPE.zip\n",
    "        vtd2014: http://www.legis.ga.gov/Joint/reapportionment/Documents/VTD2014-SHAPE.zip"
   ]
  },
  {
   "cell_type": "code",
   "execution_count": 14,
   "metadata": {},
   "outputs": [
    {
     "data": {
      "text/markdown": [
       "    dfs = {}"
      ],
      "text/plain": [
       "<IPython.core.display.Markdown object>"
      ]
     },
     "metadata": {},
     "output_type": "display_data"
    }
   ],
   "source": [
    "    dfs = {}"
   ]
  },
  {
   "cell_type": "code",
   "execution_count": 18,
   "metadata": {},
   "outputs": [
    {
     "data": {
      "text/markdown": [
       "    for k, url in urls.items():\n",
       "        with zipfile.ZipFile(BytesIO(get(urls[k]).content)) as zf:\n",
       "            for fname in zf.namelist():\n",
       "                if fname.lower().endswith(\"shp\"):\n",
       "                    with tempfile.TemporaryDirectory() as td:\n",
       "                        zf.extractall(td)\n",
       "                        dfs[k] = geopandas.read_file(str(Path(td) / fname))\n",
       "                        print(k, dfs[k].columns)"
      ],
      "text/plain": [
       "<IPython.core.display.Markdown object>"
      ]
     },
     "metadata": {},
     "output_type": "display_data"
    },
    {
     "name": "stdout",
     "output_type": "stream",
     "text": [
      "congress12 Index(['ID', 'AREA', 'DISTRICT', 'MEMBERS', 'LOCKED', 'NAME', 'POPULATION',\n",
      "       'F18_POP', 'BLACK', 'F18_BLK', 'BLACK_COMB', 'BLACK_COM1', 'TOTAL_BLAC',\n",
      "       'TOTAL_BLA1', 'HISPANIC_O', 'H18_POP', 'REG10', 'BLREG10', 'HREG10',\n",
      "       'DEVIATION', 'F_DEVIATIO', 'F_18_POP', 'F_BLACK', 'F_18_BLK',\n",
      "       'F_BLACK_CO', 'F_TOTAL_BL', 'F_TOTAL_B1', 'F_HISPANIC', 'F_H18_POP',\n",
      "       'F_BLREG10', 'F_HREG10', 'F_BLACK_C1', 'IDEAL_VALU', 'geometry'],\n",
      "      dtype='object')\n",
      "vtd2016 Index(['geometry'], dtype='object')\n",
      "vtd2014 Index(['ID', 'AREA', 'DATA', 'DISTRICT', 'CTYSOSID', 'PRECINCT_I',\n",
      "       'PRECINCT_N', 'COUNTY', 'COUNTY_NAM', 'FIPS2', 'geometry'],\n",
      "      dtype='object')\n"
     ]
    }
   ],
   "source": [
    "    for k, url in urls.items():\n",
    "        with zipfile.ZipFile(BytesIO(get(urls[k]).content)) as zf:\n",
    "            for fname in zf.namelist():\n",
    "                if fname.lower().endswith(\"shp\"):\n",
    "                    with tempfile.TemporaryDirectory() as td:\n",
    "                        zf.extractall(td)\n",
    "                        dfs[k] = geopandas.read_file(str(Path(td) / fname))\n",
    "                        print(k, dfs[k].columns)"
   ]
  }
 ],
 "metadata": {
  "kernelspec": {
   "display_name": "Python 3",
   "language": "python",
   "name": "python3"
  },
  "language_info": {
   "codemirror_mode": {
    "name": "ipython",
    "version": 3
   },
   "file_extension": ".py",
   "mimetype": "text/x-python",
   "name": "python",
   "nbconvert_exporter": "python",
   "pygments_lexer": "ipython3",
   "version": "3.6.4"
  }
 },
 "nbformat": 4,
 "nbformat_minor": 2
}
