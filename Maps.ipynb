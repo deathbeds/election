{
 "cells": [
  {
   "cell_type": "code",
   "execution_count": null,
   "metadata": {},
   "outputs": [],
   "source": [
    "%reload_ext XXX.mumble"
   ]
  },
  {
   "cell_type": "code",
   "execution_count": null,
   "metadata": {},
   "outputs": [],
   "source": [
    "    \n",
    "    __all__ = ['precincts_2014', 'congress_2012']"
   ]
  },
  {
   "cell_type": "code",
   "execution_count": null,
   "metadata": {},
   "outputs": [],
   "source": [
    "\n",
    "    from requests import get\n",
    "    import requests_cache\n",
    "    import geopandas\n",
    "    from pathlib import Path\n",
    "    requests_cache.install_cache(\"maps\")"
   ]
  },
  {
   "cell_type": "code",
   "execution_count": 1,
   "metadata": {},
   "outputs": [],
   "source": [
    "    %matplotlib inline"
   ]
  },
  {
   "cell_type": "code",
   "execution_count": null,
   "metadata": {},
   "outputs": [],
   "source": [
    "    ---\n",
    "    urls:\n",
    "        congress12: http://www.legis.ga.gov/Joint/reapportionment/Documents/SEPT%202012/CONGRESS12-SHAPE.zip\n",
    "        vtd2014: http://www.legis.ga.gov/Joint/reapportionment/Documents/VTD2014-SHAPE.zip"
   ]
  },
  {
   "cell_type": "code",
   "execution_count": null,
   "metadata": {},
   "outputs": [],
   "source": [
    "    Path(\"CONGRESS12-SHAPE.zip\").write_bytes(get(urls[\"congress12\"]).content)\n",
    "    Path(\"VTD2014-SHAPE.zip\").write_bytes(get(urls[\"vtd2014\"]).content)"
   ]
  },
  {
   "cell_type": "code",
   "execution_count": null,
   "metadata": {},
   "outputs": [],
   "source": [
    "    \n",
    "    !wget -N http://www.legis.ga.gov/Joint/reapportionment/Documents/SEPT%202012/CONGRESS12-SHAPE.zip\n",
    "    !unzip -o CONGRESS12-SHAPE.zip\n",
    "    !wget -N http://www.legis.ga.gov/Joint/reapportionment/Documents/VTD2014-SHAPE.zip\n",
    "    !unzip -o VTD2014-SHAPE.zip"
   ]
  },
  {
   "cell_type": "code",
   "execution_count": null,
   "metadata": {},
   "outputs": [],
   "source": [
    "\n",
    "    congress_2012 = geopandas.read_file('CONGPROP2.shp')\n",
    "    congress_2012.plot();"
   ]
  },
  {
   "cell_type": "code",
   "execution_count": null,
   "metadata": {},
   "outputs": [],
   "source": [
    "\n",
    "    precincts_2014 = geopandas.read_file('VTD2014-SHAPE.shp')\n",
    "    precincts_2014.plot();"
   ]
  },
  {
   "cell_type": "code",
   "execution_count": null,
   "metadata": {},
   "outputs": [],
   "source": [
    "    precincts_2014"
   ]
  },
  {
   "cell_type": "code",
   "execution_count": null,
   "metadata": {},
   "outputs": [],
   "source": [
    "if __name__ == \"__main__\":\n",
    "    !jupyter nbconvert Maps.ipynb --to=script"
   ]
  }
 ],
 "metadata": {
  "kernelspec": {
   "display_name": "Python 3",
   "language": "python",
   "name": "python3"
  },
  "language_info": {
   "codemirror_mode": {
    "name": "ipython",
    "version": 3
   },
   "file_extension": ".py",
   "mimetype": "text/x-python",
   "name": "python",
   "nbconvert_exporter": "python",
   "pygments_lexer": "ipython3",
   "version": "3.6.4"
  }
 },
 "nbformat": 4,
 "nbformat_minor": 2
}
