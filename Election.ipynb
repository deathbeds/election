{
 "cells": [
  {
   "cell_type": "code",
   "execution_count": 1,
   "metadata": {},
   "outputs": [],
   "source": [
    "\n",
    "%reload_ext XXX.mumble"
   ]
  },
  {
   "cell_type": "code",
   "execution_count": 2,
   "metadata": {},
   "outputs": [],
   "source": [
    "\n",
    "    from poser import *\n",
    "    from notebook.utils import url_path_join as ujoin\n",
    "    from importlib import reload\n",
    "    import requests\n",
    "    import requests_cache  "
   ]
  },
  {
   "cell_type": "code",
   "execution_count": 3,
   "metadata": {},
   "outputs": [],
   "source": [
    "    \n",
    "    get_ipython().ast_node_interactivity='last_expr_or_assign'\n",
    "    requests_cache.install_cache(\"election\")\n",
    "    get = requests.get;"
   ]
  },
  {
   "cell_type": "code",
   "execution_count": 52,
   "metadata": {},
   "outputs": [],
   "source": [
    "\n",
    "    ---\n",
    "    urls:\n",
    "        prefix: http://results.enr.clarityelections.com/GA/\n",
    "        reports: http://results.enr.clarityelections.com/GA/63991/184321/en/reports.html\n",
    "        ga: http://results.enr.clarityelections.com/GA/\n",
    "        elections: http://results.enr.clarityelections.com/GA/elections.json\n",
    "        county: http://results.enr.clarityelections.com/GA/63991/184321/en/select-county.html\n",
    "        franklin: http://results.enr.clarityelections.com/GA/Franklin/64051/\n",
    "        franklin_redir: http://results.enr.clarityelections.com/GA/Franklin/64051/183122/en/summary.html\n",
    "        json: http://results.enr.clarityelections.com/GA/63991/184321/json/status.json\n",
    "        select: http://results.enr.clarityelections.com/GA/63991/184321/en/select-county.html\n",
    "        wiki: https://en.wikipedia.org/wiki/List_of_counties_in_Georgia_(U.S._state)"
   ]
  },
  {
   "cell_type": "code",
   "execution_count": 36,
   "metadata": {},
   "outputs": [
    {
     "name": "stdout",
     "output_type": "stream",
     "text": [
      "159 Counties\n"
     ]
    }
   ],
   "source": [
    "    \n",
    "    num_counties = (a[get][x.text][the.pandas.read_html()].drop(2).first().len()[x-1])(urls['wiki'])\n",
    "    print(f\"{num_counties} Counties\")"
   ]
  },
  {
   "cell_type": "code",
   "execution_count": 37,
   "metadata": {},
   "outputs": [],
   "source": [
    "    \n",
    "    # A List of All of the Counties\n",
    "\n",
    "    soup = a[get][x.text].bs4.BeautifulSoup(features='lxml')(urls['county'])\n",
    "    county = (a.map(x.attrs['value']).list())(soup.select('table tr li a'));\n",
    "    assert len(county) is num_counties, \"\"\"The number of rows is not the number of counties.\"\"\""
   ]
  },
  {
   "cell_type": "markdown",
   "metadata": {},
   "source": [
    "# The County Event IDs\n",
    "The General election is made of a number of county-level events, which in turn have precinct-level\n",
    "reporting."
   ]
  },
  {
   "cell_type": "code",
   "execution_count": 39,
   "metadata": {},
   "outputs": [
    {
     "data": {
      "text/plain": [
       "{'Appling': '63993', 'Atkinson': '63994', 'Bacon': '63995'}"
      ]
     },
     "execution_count": 39,
     "metadata": {},
     "output_type": "execute_result"
    }
   ],
   "source": [
    "    \n",
    "    event_ids = a.map(a.str.split('/').filter(bool).take(2)).dict()(county);\n",
    "    a.dict.items().take(3).dict()(event_ids)"
   ]
  },
  {
   "cell_type": "code",
   "execution_count": 40,
   "metadata": {},
   "outputs": [],
   "source": [
    "\n",
    "    def construct_context_version(name='Appling', sleep=1):\n",
    "        latest_version = a[[a.identity(), event_ids.__getitem__]][\n",
    "            [urls[\"prefix\"]], a.identity(), ['current_ver.txt']\n",
    "        ].concat()['/'.join][get][x.text]\n",
    "\n",
    "        constructed = ujoin(urls[\"prefix\"], name, event_ids[name], latest_version(name))\n",
    "        constructed = ujoin(constructed , 'json/{}.json').format\n",
    "        return a.map(constructed).map((\n",
    "            a.str.rsplit('/', 1).last().str.replace('.json', ''), \n",
    "            a[get].methodcaller('json'))).dict()(('sum', 'details', 'status'))"
   ]
  },
  {
   "cell_type": "code",
   "execution_count": 41,
   "metadata": {},
   "outputs": [],
   "source": [
    "\n",
    "    ---\n",
    "    labels:\n",
    "        CH: Candidate\n",
    "        C: Office\n",
    "        V: Votes\n",
    "        TV: Total Voters\n",
    "        BC: Ballot Cast"
   ]
  },
  {
   "cell_type": "code",
   "execution_count": 42,
   "metadata": {},
   "outputs": [],
   "source": [
    "\n",
    "    def tidy_precinct(s):\n",
    "        return a.zip().dict().valmap(\n",
    "            a.zip(s.Candidate).dict()\n",
    "        ).pandas.DataFrame()(s.P, s.V)"
   ]
  },
  {
   "cell_type": "markdown",
   "metadata": {},
   "source": [
    "## Getting the Precinct-level data"
   ]
  },
  {
   "cell_type": "code",
   "execution_count": 49,
   "metadata": {},
   "outputs": [
    {
     "name": "stdout",
     "output_type": "stream",
     "text": [
      "Loading precinct data...\n"
     ]
    },
    {
     "data": {
      "application/vnd.jupyter.widget-view+json": {
       "model_id": "848d484d0a5d40769159a89c97843e94",
       "version_major": 2,
       "version_minor": 0
      },
      "text/html": [
       "<p>Failed to display Jupyter Widget of type <code>HBox</code>.</p>\n",
       "<p>\n",
       "  If you're reading this message in the Jupyter Notebook or JupyterLab Notebook, it may mean\n",
       "  that the widgets JavaScript is still loading. If this message persists, it\n",
       "  likely means that the widgets JavaScript library is either not installed or\n",
       "  not enabled. See the <a href=\"https://ipywidgets.readthedocs.io/en/stable/user_install.html\">Jupyter\n",
       "  Widgets Documentation</a> for setup instructions.\n",
       "</p>\n",
       "<p>\n",
       "  If you're reading this message in another frontend (for example, a static\n",
       "  rendering on GitHub or <a href=\"https://nbviewer.jupyter.org/\">NBViewer</a>),\n",
       "  it may mean that your frontend doesn't currently support widgets.\n",
       "</p>\n"
      ],
      "text/plain": [
       "HBox(children=(IntProgress(value=0, max=159), HTML(value='')))"
      ]
     },
     "metadata": {},
     "output_type": "display_data"
    },
    {
     "name": "stdout",
     "output_type": "stream",
     "text": [
      "\n"
     ]
    }
   ],
   "source": [
    "\n",
    "    print(\"Loading precinct data...\")\n",
    "    dfs = {}\n",
    "    for i, county in the.tqdm.tqdm_notebook()(list(enumerate(event_ids))):\n",
    "        objects = construct_context_version(county)\n",
    "        \n",
    "        df = (a.pandas.DataFrame())(objects['sum']['Contests'])\n",
    "        \n",
    "        # assert df.V.apply(sum).lt(df.TV).all()\n",
    "        df = df[list(labels)].rename(columns=labels)\n",
    "        df = (a.pandas.DataFrame()[df.join])(objects['details']['Contests'])\n",
    "\n",
    "        dfs[county] = a.pandas.concat()({index: tidy_precinct(row)\n",
    "            for index, row in df.set_index('Office').iterrows() \n",
    "            if (a**list)(row.P) or not a.pandas.np.isnan()(row.P)})"
   ]
  },
  {
   "cell_type": "code",
   "execution_count": 51,
   "metadata": {},
   "outputs": [
    {
     "data": {
      "text/plain": [
       "contest                                          county      candidate              precinct        \n",
       "U.S. Representative, District 12                 Jeff_Davis  PATRICIA C. MCCRACKEN  Altamaha 2            48.0\n",
       "Public Service Commission, District 2 - Eastern  Fulton      TIM ECHOLS (I)         AP09A               1835.0\n",
       "Probate Judge                                    Walton      B. E. WRIGHT (I)(R)    Loganville North    2556.0\n",
       "Name: votes, dtype: float64"
      ]
     },
     "execution_count": 51,
     "metadata": {},
     "output_type": "execute_result"
    }
   ],
   "source": [
    "\n",
    "    tidy = a.pandas.concat()(dfs)\n",
    "\n",
    "    tidy = tidy.swaplevel(0,1).stack().pipe(\n",
    "        lambda df: a.pandas.Series()(df.values, df.index.rename(('contest', 'county', 'candidate', 'precinct')))\n",
    "    ).rename('votes')\n",
    "    tidy.sample(3)"
   ]
  },
  {
   "cell_type": "code",
   "execution_count": 48,
   "metadata": {},
   "outputs": [
    {
     "data": {
      "text/html": [
       "<div>\n",
       "<style scoped>\n",
       "    .dataframe tbody tr th:only-of-type {\n",
       "        vertical-align: middle;\n",
       "    }\n",
       "\n",
       "    .dataframe tbody tr th {\n",
       "        vertical-align: top;\n",
       "    }\n",
       "\n",
       "    .dataframe thead th {\n",
       "        text-align: right;\n",
       "    }\n",
       "</style>\n",
       "<table border=\"1\" class=\"dataframe\">\n",
       "  <thead>\n",
       "    <tr style=\"text-align: right;\">\n",
       "      <th></th>\n",
       "      <th></th>\n",
       "      <th></th>\n",
       "      <th></th>\n",
       "      <th>votes</th>\n",
       "    </tr>\n",
       "    <tr>\n",
       "      <th>contest</th>\n",
       "      <th>county</th>\n",
       "      <th>candidate</th>\n",
       "      <th>precinct</th>\n",
       "      <th></th>\n",
       "    </tr>\n",
       "  </thead>\n",
       "  <tbody>\n",
       "    <tr>\n",
       "      <th>President of the United States</th>\n",
       "      <th>Richmond</th>\n",
       "      <th>DONALD J. TRUMP</th>\n",
       "      <th>306</th>\n",
       "      <td>861.0</td>\n",
       "    </tr>\n",
       "    <tr>\n",
       "      <th>SHERIFF</th>\n",
       "      <th>Randolph</th>\n",
       "      <th>E. FAIRBANKS (I) D</th>\n",
       "      <th>Springvale</th>\n",
       "      <td>147.0</td>\n",
       "    </tr>\n",
       "    <tr>\n",
       "      <th>JUDGE, PROBATE COURT</th>\n",
       "      <th>Gilmer</th>\n",
       "      <th>S. C. CHASTAIN (R)</th>\n",
       "      <th>BIG CREEK</th>\n",
       "      <td>761.0</td>\n",
       "    </tr>\n",
       "  </tbody>\n",
       "</table>\n",
       "</div>"
      ],
      "text/plain": [
       "                                                                       votes\n",
       "contest                        county   candidate          precinct         \n",
       "President of the United States Richmond DONALD J. TRUMP    306         861.0\n",
       "SHERIFF                        Randolph E. FAIRBANKS (I) D Springvale  147.0\n",
       "JUDGE, PROBATE COURT           Gilmer   S. C. CHASTAIN (R) BIG CREEK   761.0"
      ]
     },
     "execution_count": 48,
     "metadata": {},
     "output_type": "execute_result"
    }
   ],
   "source": [
    "\n",
    "    the.pandas.DataFrame()(tidy).sample(3)"
   ]
  }
 ],
 "metadata": {
  "kernelspec": {
   "display_name": "Python 3",
   "language": "python",
   "name": "python3"
  },
  "language_info": {
   "codemirror_mode": {
    "name": "ipython",
    "version": 3
   },
   "file_extension": ".py",
   "mimetype": "text/x-python",
   "name": "python",
   "nbconvert_exporter": "python",
   "pygments_lexer": "ipython3",
   "version": "3.6.4"
  }
 },
 "nbformat": 4,
 "nbformat_minor": 2
}
