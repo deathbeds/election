{
 "cells": [
  {
   "cell_type": "code",
   "execution_count": null,
   "metadata": {},
   "outputs": [],
   "source": [
    "%reload_ext XXX.mumble"
   ]
  },
  {
   "cell_type": "code",
   "execution_count": null,
   "metadata": {},
   "outputs": [],
   "source": [
    "\n",
    "    get_ipython().ast_node_interactivity='last_expr_or_assign'"
   ]
  },
  {
   "cell_type": "code",
   "execution_count": null,
   "metadata": {},
   "outputs": [],
   "source": [
    "\n",
    "    from poser import *\n",
    "    from notebook.utils import url_path_join as ujoin\n",
    "    from importlib import reload\n",
    "    import requests\n",
    "    import requests_cache\n",
    "    requests_cache.install_cache(\"election\")"
   ]
  },
  {
   "cell_type": "code",
   "execution_count": null,
   "metadata": {},
   "outputs": [],
   "source": [
    "    ---\n",
    "    urls:\n",
    "        prefix: http://results.enr.clarityelections.com/GA/\n",
    "        reports: http://results.enr.clarityelections.com/GA/63991/184321/en/reports.html\n",
    "        ga: http://results.enr.clarityelections.com/GA/\n",
    "        elections: http://results.enr.clarityelections.com/GA/elections.json\n",
    "        county: http://results.enr.clarityelections.com/GA/63991/184321/en/select-county.html\n",
    "        franklin: http://results.enr.clarityelections.com/GA/Franklin/64051/\n",
    "        franklin_redir: http://results.enr.clarityelections.com/GA/Franklin/64051/183122/en/summary.html\n",
    "        json: http://results.enr.clarityelections.com/GA/63991/184321/json/status.json\n",
    "        select: http://results.enr.clarityelections.com/GA/63991/184321/en/select-county.html\n",
    "        wiki: https://en.wikipedia.org/wiki/List_of_counties_in_Georgia_(U.S._state)"
   ]
  },
  {
   "cell_type": "code",
   "execution_count": null,
   "metadata": {},
   "outputs": [],
   "source": [
    "\n",
    "    read_html, get =(a/cache)((a.pandas.read_html(), a.requests.get()))\n",
    "    get = requests.get"
   ]
  },
  {
   "cell_type": "code",
   "execution_count": null,
   "metadata": {},
   "outputs": [],
   "source": [
    "    num_counties = (a[read_html].drop(2).first().len()[x-1])(urls['wiki'])"
   ]
  },
  {
   "cell_type": "code",
   "execution_count": null,
   "metadata": {},
   "outputs": [],
   "source": [
    "# A List of All of the Counties\n",
    "\n",
    "    soup = a[get][x.text].bs4.BeautifulSoup(features='lxml')(urls['county'])\n",
    "    county = (a.map(x.attrs['value']).list())(soup.select('table tr li a'));\n",
    "    assert len(county) is num_counties, \"\"\"The number of rows is not the number of counties.\"\"\""
   ]
  },
  {
   "cell_type": "code",
   "execution_count": null,
   "metadata": {},
   "outputs": [],
   "source": [
    "# The County Event ID\n",
    "\n",
    "    event_ids = a.map(a.str.split('/').filter(bool).take(2)).dict()(county);\n",
    "    a.dict.items().take(3).dict()(event_ids)"
   ]
  },
  {
   "cell_type": "code",
   "execution_count": null,
   "metadata": {},
   "outputs": [],
   "source": [
    "    def construct_context_version(name='Appling', sleep=1):\n",
    "        latest_version = a[[a.identity(), event_ids.__getitem__]][\n",
    "            [urls[\"prefix\"]], a.identity(), ['current_ver.txt']\n",
    "        ].concat()['/'.join][get][x.text]\n",
    "\n",
    "        constructed = ujoin(urls[\"prefix\"], name, event_ids[name], latest_version(name))\n",
    "        constructed = ujoin(constructed , 'json/{}.json').format\n",
    "        return a.map(constructed).map((\n",
    "            a.str.rsplit('/', 1).last().str.replace('.json', ''), \n",
    "            a[get].methodcaller('json'))).dict()(('sum', 'details', 'status'))"
   ]
  },
  {
   "cell_type": "code",
   "execution_count": null,
   "metadata": {},
   "outputs": [],
   "source": [
    "    ---\n",
    "    labels:\n",
    "        CH: Candidate\n",
    "        C: Office\n",
    "        V: Votes\n",
    "        TV: Total Voters\n",
    "        BC: Ballot Cast"
   ]
  },
  {
   "cell_type": "code",
   "execution_count": null,
   "metadata": {},
   "outputs": [],
   "source": [
    "    def tidy_precinct(s):\n",
    "        return a.zip().dict().valmap(\n",
    "            a.zip(s.Candidate).dict()\n",
    "        ).pandas.DataFrame()(s.P, s.V)"
   ]
  },
  {
   "cell_type": "code",
   "execution_count": null,
   "metadata": {},
   "outputs": [],
   "source": [
    "    dfs = {}\n",
    "    for i, county in enumerate(event_ids):\n",
    "        print(i, county)\n",
    "        objects = construct_context_version(county)\n",
    "        \n",
    "        df = (a.pandas.DataFrame())(objects['sum']['Contests'])\n",
    "        \n",
    "        # assert df.V.apply(sum).lt(df.TV).all()\n",
    "        df = df[list(labels)].rename(columns=labels)\n",
    "        df = (a.pandas.DataFrame()[df.join])(objects['details']['Contests'])\n",
    "\n",
    "        dfs[county] = a.pandas.concat()({index: tidy_precinct(row)\n",
    "            for index, row in df.set_index('Office').iterrows() \n",
    "            if (a**list)(row.P) or not a.pandas.np.isnan()(row.P)})"
   ]
  },
  {
   "cell_type": "code",
   "execution_count": null,
   "metadata": {},
   "outputs": [],
   "source": [
    "    tidy = a.pandas.concat()(dfs)\n",
    "\n",
    "    tidy = tidy.swaplevel(0,1).stack().pipe(\n",
    "        lambda df: a.pandas.Series()(df.values, df.index.rename(('contest', 'county', 'candidate', 'precinct')))\n",
    "    ).rename('votes')"
   ]
  },
  {
   "cell_type": "code",
   "execution_count": null,
   "metadata": {},
   "outputs": [],
   "source": [
    "    tidy.to_csv('all_contests_precinct.csv')\n",
    "    tidy.loc['President of the United States'].to_csv('president_precinct.csv')"
   ]
  },
  {
   "cell_type": "markdown",
   "metadata": {},
   "source": [
    "> I want election **results** by **precinct** in **Georgia** for the **2016 presidential election**. The problem is that results are broken down by county in details.xls on the Georgia Secretary of State's website. However, precinct-level details are available for each of Georgia's 159 counties \n",
    "\n",
    "![](./state_list.png)\n",
    "\n",
    "in individual reports (also titled details.xls). \n",
    "\n",
    "![](./county_example.png)"
   ]
  },
  {
   "cell_type": "code",
   "execution_count": null,
   "metadata": {},
   "outputs": [],
   "source": [
    "    the.pandas.DataFrame()(tidy)"
   ]
  },
  {
   "cell_type": "code",
   "execution_count": null,
   "metadata": {},
   "outputs": [],
   "source": [
    "\n",
    "    import Maps\n",
    "    reload(Maps)"
   ]
  },
  {
   "cell_type": "code",
   "execution_count": null,
   "metadata": {},
   "outputs": [],
   "source": [
    "\n",
    "    vote_county_precincts = (\n",
    "        tidy['President of the United States']\n",
    "        .reset_index()[[\"county\", \"precinct\", \"candidate\", \"votes\"]]\n",
    "        .rename({\"county\": \"COUNTY_NAM\", \"precinct\": \"PRECINCT_N\"}, axis=\"columns\")\n",
    "        .sort_values(['COUNTY_NAM', 'PRECINCT_N'])\n",
    "        .drop_duplicates()\n",
    "        .dropna()\n",
    "    )\n",
    "    vote_county_precincts['COUNTY_NAM'] = vote_county_precincts['COUNTY_NAM'].str.upper()\n",
    "    vote_county_precincts['PRECINCT_N'] = vote_county_precincts['PRECINCT_N'].str.upper()\n",
    "    vote_county_precincts = vote_county_precincts.set_index(['COUNTY_NAM', 'PRECINCT_N'])"
   ]
  },
  {
   "cell_type": "code",
   "execution_count": null,
   "metadata": {},
   "outputs": [],
   "source": [
    "\n",
    "    map_county_precincts = (Maps.precincts_2014[['PRECINCT_N', 'COUNTY_NAM', 'geometry']]\n",
    "                            .sort_values(['COUNTY_NAM', 'PRECINCT_N'])\n",
    "                            .dropna())\n",
    "    map_county_precincts['PRECINCT_N'] = map_county_precincts['PRECINCT_N'].apply(str)\n",
    "    map_county_precincts = map_county_precincts.set_index(['COUNTY_NAM', 'PRECINCT_N'])"
   ]
  },
  {
   "cell_type": "code",
   "execution_count": null,
   "metadata": {},
   "outputs": [],
   "source": [
    "\n",
    "    joined = map_county_precincts.join(vote_county_precincts, how='outer').dropna()"
   ]
  },
  {
   "cell_type": "code",
   "execution_count": null,
   "metadata": {},
   "outputs": [],
   "source": [
    "\n",
    "    trump = joined['candidate'].str.contains('TRUMP')\n",
    "    clinton = joined['candidate'].str.contains('CLINTON');"
   ]
  },
  {
   "cell_type": "code",
   "execution_count": null,
   "metadata": {},
   "outputs": [],
   "source": [
    "\n",
    "    red = joined[(joined[trump]['votes'] > joined[clinton]['votes']) & trump]\n",
    "    red['color'] = 1\n",
    "    red.size"
   ]
  },
  {
   "cell_type": "code",
   "execution_count": null,
   "metadata": {},
   "outputs": [],
   "source": [
    "\n",
    "    blue = joined[(joined[trump]['votes'] < joined[clinton]['votes']) & clinton]\n",
    "    blue['color'] = 0\n",
    "    blue.size"
   ]
  },
  {
   "cell_type": "code",
   "execution_count": null,
   "metadata": {},
   "outputs": [],
   "source": [
    "\n",
    "    red_blue = the.pandas.concat()([blue, red])"
   ]
  },
  {
   "cell_type": "code",
   "execution_count": null,
   "metadata": {},
   "outputs": [],
   "source": [
    "    red_blue.plot(column='color', cmap='bwr');"
   ]
  }
 ],
 "metadata": {
  "kernelspec": {
   "display_name": "Python 3",
   "language": "python",
   "name": "python3"
  },
  "language_info": {
   "codemirror_mode": {
    "name": "ipython",
    "version": 3
   },
   "file_extension": ".py",
   "mimetype": "text/x-python",
   "name": "python",
   "nbconvert_exporter": "python",
   "pygments_lexer": "ipython3",
   "version": "3.6.4"
  }
 },
 "nbformat": 4,
 "nbformat_minor": 2
}
