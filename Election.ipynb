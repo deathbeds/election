{
 "cells": [
  {
   "cell_type": "code",
   "execution_count": 1,
   "metadata": {},
   "outputs": [
    {
     "data": {
      "text/html": [
       "<style>\n",
       "    @import url(\"https://cdn.jsdelivr.net/npm/firacode@1.205.0/distr/fira_code.css\");\n",
       "\n",
       "    pre code, \n",
       "    div.output_area pre, \n",
       "    .CodeMirror * {\n",
       "      font-family: 'Fira Code' !important; \n",
       "      font-variant-ligatures: initial !important;\n",
       "    }\n",
       "\n",
       "    .cm-string {\n",
       "        font-variant-ligatures: none;\n",
       "    }\n",
       "</style>\n"
      ],
      "text/plain": [
       "<IPython.core.display.HTML object>"
      ]
     },
     "metadata": {},
     "output_type": "display_data"
    }
   ],
   "source": [
    "%reload_ext XXX.mumble"
   ]
  },
  {
   "cell_type": "code",
   "execution_count": 2,
   "metadata": {},
   "outputs": [
    {
     "data": {
      "text/markdown": [
       "    get_ipython().ast_node_interactivity='last_expr_or_assign'"
      ],
      "text/plain": [
       "<IPython.core.display.Markdown object>"
      ]
     },
     "metadata": {},
     "output_type": "display_data"
    }
   ],
   "source": [
    "    get_ipython().ast_node_interactivity='last_expr_or_assign'"
   ]
  },
  {
   "cell_type": "code",
   "execution_count": 3,
   "metadata": {},
   "outputs": [
    {
     "data": {
      "text/markdown": [
       "    from poser import *"
      ],
      "text/plain": [
       "<IPython.core.display.Markdown object>"
      ]
     },
     "metadata": {},
     "output_type": "display_data"
    }
   ],
   "source": [
    "    from poser import *"
   ]
  },
  {
   "cell_type": "code",
   "execution_count": 11,
   "metadata": {},
   "outputs": [
    {
     "data": {
      "text/markdown": [
       "    ---\n",
       "    urls:\n",
       "        prefix: http://results.enr.clarityelections.com/GA/\n",
       "        reports: http://results.enr.clarityelections.com/GA/63991/184321/en/reports.html\n",
       "        ga: http://results.enr.clarityelections.com/GA/\n",
       "        elections: http://results.enr.clarityelections.com/GA/elections.json\n",
       "        county: http://results.enr.clarityelections.com/GA/63991/184321/en/select-county.html\n",
       "        franklin: http://results.enr.clarityelections.com/GA/Franklin/64051/\n",
       "        franklin_redir: http://results.enr.clarityelections.com/GA/Franklin/64051/183122/en/summary.html\n",
       "        json: http://results.enr.clarityelections.com/GA/63991/184321/json/status.json\n",
       "        select: http://results.enr.clarityelections.com/GA/63991/184321/en/select-county.html\n",
       "        wiki: https://en.wikipedia.org/wiki/List_of_counties_in_Georgia_(U.S._state)"
      ],
      "text/plain": [
       "<IPython.core.display.Markdown object>"
      ]
     },
     "metadata": {},
     "output_type": "display_data"
    }
   ],
   "source": [
    "    ---\n",
    "    urls:\n",
    "        prefix: http://results.enr.clarityelections.com/GA/\n",
    "        reports: http://results.enr.clarityelections.com/GA/63991/184321/en/reports.html\n",
    "        ga: http://results.enr.clarityelections.com/GA/\n",
    "        elections: http://results.enr.clarityelections.com/GA/elections.json\n",
    "        county: http://results.enr.clarityelections.com/GA/63991/184321/en/select-county.html\n",
    "        franklin: http://results.enr.clarityelections.com/GA/Franklin/64051/\n",
    "        franklin_redir: http://results.enr.clarityelections.com/GA/Franklin/64051/183122/en/summary.html\n",
    "        json: http://results.enr.clarityelections.com/GA/63991/184321/json/status.json\n",
    "        select: http://results.enr.clarityelections.com/GA/63991/184321/en/select-county.html\n",
    "        wiki: https://en.wikipedia.org/wiki/List_of_counties_in_Georgia_(U.S._state)"
   ]
  },
  {
   "cell_type": "code",
   "execution_count": 12,
   "metadata": {},
   "outputs": [
    {
     "data": {
      "text/markdown": [
       "    read_html, get = (a/cache)((a.pandas.read_html(), a.requests.get()))\n",
       "    num_counties = (a[read_html].drop(2).first().len()[x-1])(urls['wiki'])"
      ],
      "text/plain": [
       "<IPython.core.display.Markdown object>"
      ]
     },
     "metadata": {},
     "output_type": "display_data"
    },
    {
     "data": {
      "text/plain": [
       "159"
      ]
     },
     "execution_count": 12,
     "metadata": {},
     "output_type": "execute_result"
    }
   ],
   "source": [
    "    read_html, get = (a/cache)((a.pandas.read_html(), a.requests.get()))\n",
    "    num_counties = (a[read_html].drop(2).first().len()[x-1])(urls['wiki'])"
   ]
  },
  {
   "cell_type": "code",
   "execution_count": 14,
   "metadata": {},
   "outputs": [
    {
     "data": {
      "text/markdown": [
       "# A List of All of the Counties\n",
       "\n",
       "    soup = a[get][x.text].bs4.BeautifulSoup(features='lxml')(urls['county'])\n",
       "    county = (a.map(x.attrs['value']).list())(soup.select('table tr li a'));\n",
       "    assert len(county) is num_counties, \"\"\"The number of rows is not the number of counties.\"\"\""
      ],
      "text/plain": [
       "<IPython.core.display.Markdown object>"
      ]
     },
     "metadata": {},
     "output_type": "display_data"
    }
   ],
   "source": [
    "# A List of All of the Counties\n",
    "\n",
    "    soup = a[get][x.text].bs4.BeautifulSoup(features='lxml')(urls['county'])\n",
    "    county = (a.map(x.attrs['value']).list())(soup.select('table tr li a'));\n",
    "    assert len(county) is num_counties, \"\"\"The number of rows is not the number of counties.\"\"\""
   ]
  },
  {
   "cell_type": "code",
   "execution_count": 17,
   "metadata": {},
   "outputs": [
    {
     "data": {
      "text/markdown": [
       "# The County Event ID\n",
       "\n",
       "    event_ids = a.map(a.str.split('/').filter(bool).take(2)).dict()(county);\n",
       "    a.dict.items().take(3).dict()(event_ids)"
      ],
      "text/plain": [
       "<IPython.core.display.Markdown object>"
      ]
     },
     "metadata": {},
     "output_type": "display_data"
    },
    {
     "data": {
      "text/plain": [
       "{'Appling': '63993', 'Atkinson': '63994', 'Bacon': '63995'}"
      ]
     },
     "execution_count": 17,
     "metadata": {},
     "output_type": "execute_result"
    }
   ],
   "source": [
    "# The County Event ID\n",
    "\n",
    "    event_ids = a.map(a.str.split('/').filter(bool).take(2)).dict()(county);\n",
    "    a.dict.items().take(3).dict()(event_ids)"
   ]
  },
  {
   "cell_type": "code",
   "execution_count": 110,
   "metadata": {},
   "outputs": [
    {
     "data": {
      "text/markdown": [
       "    def construct_context_version(name='Appling', sleep=1):\n",
       "#         the.time.sleep(sleep)()\n",
       "        latest_version = a[[a.identity(), event_ids.__getitem__]][\n",
       "            [prefix], a.identity(), ['current_ver.txt']\n",
       "        ].concat()['/'.join][get][x.text]\n",
       "\n",
       "        constructed = '/'.join((prefix, name, event_ids[name], latest_version(name)))\n",
       "        constructed = (constructed +'/json/{}.json').format\n",
       "        return a.map(constructed).map((\n",
       "            a.str.rsplit('/', 1).last().str.replace('.json', ''), \n",
       "            a[get].methodcaller('json'))).dict()(('sum', 'details', 'status'))"
      ],
      "text/plain": [
       "<IPython.core.display.Markdown object>"
      ]
     },
     "metadata": {},
     "output_type": "display_data"
    }
   ],
   "source": [
    "    def construct_context_version(name='Appling', sleep=1):\n",
    "#         the.time.sleep(sleep)()\n",
    "        latest_version = a[[a.identity(), event_ids.__getitem__]][\n",
    "            [prefix], a.identity(), ['current_ver.txt']\n",
    "        ].concat()['/'.join][get][x.text]\n",
    "\n",
    "        constructed = '/'.join((prefix, name, event_ids[name], latest_version(name)))\n",
    "        constructed = (constructed +'/json/{}.json').format\n",
    "        return a.map(constructed).map((\n",
    "            a.str.rsplit('/', 1).last().str.replace('.json', ''), \n",
    "            a[get].methodcaller('json'))).dict()(('sum', 'details', 'status'))"
   ]
  },
  {
   "cell_type": "code",
   "execution_count": 111,
   "metadata": {},
   "outputs": [
    {
     "data": {
      "text/markdown": [
       "    ---\n",
       "    labels:\n",
       "        CH: Candidate\n",
       "        C: Office\n",
       "        V: Votes\n",
       "        TV: Total Voters\n",
       "        BC: Ballot Cast"
      ],
      "text/plain": [
       "<IPython.core.display.Markdown object>"
      ]
     },
     "metadata": {},
     "output_type": "display_data"
    }
   ],
   "source": [
    "    ---\n",
    "    labels:\n",
    "        CH: Candidate\n",
    "        C: Office\n",
    "        V: Votes\n",
    "        TV: Total Voters\n",
    "        BC: Ballot Cast"
   ]
  },
  {
   "cell_type": "code",
   "execution_count": 112,
   "metadata": {},
   "outputs": [
    {
     "data": {
      "text/markdown": [
       "    def tidy_precinct(s):\n",
       "        return a.zip().dict().valmap(\n",
       "            a.zip(s.Candidate).dict()\n",
       "        ).pandas.DataFrame()(s.P, s.V)"
      ],
      "text/plain": [
       "<IPython.core.display.Markdown object>"
      ]
     },
     "metadata": {},
     "output_type": "display_data"
    }
   ],
   "source": [
    "    def tidy_precinct(s):\n",
    "        return a.zip().dict().valmap(\n",
    "            a.zip(s.Candidate).dict()\n",
    "        ).pandas.DataFrame()(s.P, s.V)"
   ]
  },
  {
   "cell_type": "code",
   "execution_count": 116,
   "metadata": {},
   "outputs": [
    {
     "data": {
      "text/markdown": [
       "    dfs = {}\n",
       "    for i, county in enumerate(event_ids):\n",
       "        print(i)\n",
       "        objects = construct_context_version(county)\n",
       "        \n",
       "        df = (a.pandas.DataFrame())(objects['sum']['Contests'])\n",
       "        \n",
       "#         assert df.V.apply(sum).lt(df.TV).all()\n",
       "        df = df[list(labels)].rename(columns=labels)\n",
       "        df = (a.pandas.DataFrame()[df.join])(objects['details']['Contests'])\n",
       "\n",
       "        dfs[county] = a.pandas.concat()({index: tidy_precinct(row)\n",
       "            for index, row in df.set_index('Office').iterrows() \n",
       "            if (a**list)(row.P) or not a.pandas.np.isnan()(row.P)})"
      ],
      "text/plain": [
       "<IPython.core.display.Markdown object>"
      ]
     },
     "metadata": {},
     "output_type": "display_data"
    },
    {
     "name": "stdout",
     "output_type": "stream",
     "text": [
      "0\n",
      "1\n",
      "2\n",
      "3\n",
      "4\n",
      "5\n",
      "6\n",
      "7\n",
      "8\n",
      "9\n",
      "10\n",
      "11\n",
      "12\n",
      "13\n",
      "14\n",
      "15\n",
      "16\n",
      "17\n",
      "18\n",
      "19\n",
      "20\n",
      "21\n",
      "22\n",
      "23\n",
      "24\n",
      "25\n",
      "26\n",
      "27\n",
      "28\n",
      "29\n",
      "30\n",
      "31\n",
      "32\n",
      "33\n",
      "34\n",
      "35\n",
      "36\n",
      "37\n",
      "38\n",
      "39\n",
      "40\n",
      "41\n",
      "42\n",
      "43\n",
      "44\n",
      "45\n",
      "46\n",
      "47\n",
      "48\n",
      "49\n",
      "50\n",
      "51\n",
      "52\n",
      "53\n",
      "54\n",
      "55\n",
      "56\n",
      "57\n",
      "58\n",
      "59\n",
      "60\n",
      "61\n",
      "62\n",
      "63\n",
      "64\n",
      "65\n",
      "66\n",
      "67\n",
      "68\n",
      "69\n",
      "70\n",
      "71\n",
      "72\n",
      "73\n",
      "74\n",
      "75\n",
      "76\n",
      "77\n",
      "78\n",
      "79\n",
      "80\n",
      "81\n",
      "82\n",
      "83\n",
      "84\n",
      "85\n",
      "86\n",
      "87\n",
      "88\n",
      "89\n",
      "90\n",
      "91\n",
      "92\n",
      "93\n",
      "94\n",
      "95\n",
      "96\n",
      "97\n",
      "98\n",
      "99\n",
      "100\n",
      "101\n",
      "102\n",
      "103\n",
      "104\n",
      "105\n",
      "106\n",
      "107\n",
      "108\n",
      "109\n",
      "110\n",
      "111\n",
      "112\n",
      "113\n",
      "114\n",
      "115\n",
      "116\n",
      "117\n",
      "118\n",
      "119\n",
      "120\n",
      "121\n",
      "122\n",
      "123\n",
      "124\n",
      "125\n",
      "126\n",
      "127\n",
      "128\n",
      "129\n",
      "130\n",
      "131\n",
      "132\n",
      "133\n",
      "134\n",
      "135\n",
      "136\n",
      "137\n",
      "138\n",
      "139\n",
      "140\n",
      "141\n",
      "142\n",
      "143\n",
      "144\n",
      "145\n",
      "146\n",
      "147\n",
      "148\n",
      "149\n",
      "150\n",
      "151\n",
      "152\n",
      "153\n",
      "154\n",
      "155\n",
      "156\n",
      "157\n",
      "158\n"
     ]
    }
   ],
   "source": [
    "    dfs = {}\n",
    "    for i, county in enumerate(event_ids):\n",
    "        print(i)\n",
    "        objects = construct_context_version(county)\n",
    "        \n",
    "        df = (a.pandas.DataFrame())(objects['sum']['Contests'])\n",
    "        \n",
    "#         assert df.V.apply(sum).lt(df.TV).all()\n",
    "        df = df[list(labels)].rename(columns=labels)\n",
    "        df = (a.pandas.DataFrame()[df.join])(objects['details']['Contests'])\n",
    "\n",
    "        dfs[county] = a.pandas.concat()({index: tidy_precinct(row)\n",
    "            for index, row in df.set_index('Office').iterrows() \n",
    "            if (a**list)(row.P) or not a.pandas.np.isnan()(row.P)})"
   ]
  },
  {
   "cell_type": "code",
   "execution_count": 139,
   "metadata": {},
   "outputs": [
    {
     "data": {
      "text/markdown": [
       "    tidy = a.pandas.concat()(dfs)\n",
       "\n",
       "    tidy = tidy.swaplevel(0,1).stack().pipe(\n",
       "        lambda df: a.pandas.Series()(df.values, df.index.rename(('contest', 'county', 'candidate', 'precinct')))\n",
       "    ).rename('votes')"
      ],
      "text/plain": [
       "<IPython.core.display.Markdown object>"
      ]
     },
     "metadata": {},
     "output_type": "display_data"
    },
    {
     "data": {
      "text/plain": [
       "contest                         county   candidate           precinct    \n",
       "CC, D2                          Appling  T. WILKERSON (I) D  2               945.0\n",
       "CC, D4                          Appling  R. RENTZ (I) R      4A              248.0\n",
       "                                                             4B              274.0\n",
       "                                                             4C              255.0\n",
       "                                                             4D              625.0\n",
       "CC, D5                          Appling  C. LEGGETT (I) R    5A              513.0\n",
       "                                                             5B              327.0\n",
       "                                                             5C              225.0\n",
       "CLERK SUPERIOR COURT            Appling  M. THOMAS (I) R     1B              692.0\n",
       "                                                             1C              481.0\n",
       "                                                             2               801.0\n",
       "                                                             3A              203.0\n",
       "                                                             3A1             303.0\n",
       "                                                             3B              130.0\n",
       "                                                             3C              738.0\n",
       "                                                             4A              252.0\n",
       "                                                             4B              284.0\n",
       "                                                             4C              263.0\n",
       "                                                             4D              645.0\n",
       "                                                             5A              537.0\n",
       "                                                             5B              340.0\n",
       "                                                             5C              238.0\n",
       "CORONER                         Appling  J. MURPHY (I) R     1B              669.0\n",
       "                                                             1C              469.0\n",
       "                                                             2               757.0\n",
       "                                                             3A              196.0\n",
       "                                                             3A1             310.0\n",
       "                                                             3B              120.0\n",
       "                                                             3C              725.0\n",
       "                                                             4A              253.0\n",
       "                                                                             ...  \n",
       "United States Senator, Isakson  Worth    JIM BARKSDALE       Bridgeboro      123.0\n",
       "                                                             County Line      70.0\n",
       "                                                             Doles            26.0\n",
       "                                                             Isabella         90.0\n",
       "                                                             Minton           27.0\n",
       "                                                             Oakfield         46.0\n",
       "                                                             Piney Woods      60.0\n",
       "                                                             Poulan           90.0\n",
       "                                                             Red Rock        126.0\n",
       "                                                             Scooterville     22.0\n",
       "                                                             Shingler         47.0\n",
       "                                                             Sumner           92.0\n",
       "                                                             Sylver East     146.0\n",
       "                                                             Sylvester       758.0\n",
       "                                                             Warwick         116.0\n",
       "                                         JOHNNY ISAKSON (I)  Bridgeboro      597.0\n",
       "                                                             County Line     318.0\n",
       "                                                             Doles           244.0\n",
       "                                                             Isabella        771.0\n",
       "                                                             Minton          295.0\n",
       "                                                             Oakfield         87.0\n",
       "                                                             Piney Woods     111.0\n",
       "                                                             Poulan          397.0\n",
       "                                                             Red Rock        498.0\n",
       "                                                             Scooterville    320.0\n",
       "                                                             Shingler        319.0\n",
       "                                                             Sumner          385.0\n",
       "                                                             Sylver East     648.0\n",
       "                                                             Sylvester       606.0\n",
       "                                                             Warwick         288.0\n",
       "Name: votes, Length: 89760, dtype: float64"
      ]
     },
     "execution_count": 139,
     "metadata": {},
     "output_type": "execute_result"
    }
   ],
   "source": [
    "    tidy = a.pandas.concat()(dfs)\n",
    "\n",
    "    tidy = tidy.swaplevel(0,1).stack().pipe(\n",
    "        lambda df: a.pandas.Series()(df.values, df.index.rename(('contest', 'county', 'candidate', 'precinct')))\n",
    "    ).rename('votes')"
   ]
  },
  {
   "cell_type": "code",
   "execution_count": 148,
   "metadata": {},
   "outputs": [
    {
     "data": {
      "text/markdown": [
       "    tidy.to_csv('all_contests_precinct.csv')\n",
       "\n",
       "    tidy.loc['President of the United States'].to_csv('president_precinct.csv')"
      ],
      "text/plain": [
       "<IPython.core.display.Markdown object>"
      ]
     },
     "metadata": {},
     "output_type": "display_data"
    }
   ],
   "source": [
    "    tidy.to_csv('all_contests_precinct.csv')\n",
    "    tidy.loc['President of the United States'].to_csv('president_precinct.csv')"
   ]
  },
  {
   "cell_type": "markdown",
   "metadata": {},
   "source": [
    "> I want election **results** by **precinct** in **Georgia** for the **2016 presidential election**. The problem is that results are broken down by county in details.xls on the Georgia Secretary of State's website. However, precinct-level details are available for each of Georgia's 159 counties \n",
    "\n",
    "![](./state_list.png)\n",
    "\n",
    "in individual reports (also titled details.xls). \n",
    "\n",
    "![](./county_example.png)"
   ]
  },
  {
   "cell_type": "code",
   "execution_count": null,
   "metadata": {},
   "outputs": [],
   "source": []
  }
 ],
 "metadata": {
  "kernelspec": {
   "display_name": "p6",
   "language": "python",
   "name": "other-env"
  },
  "language_info": {
   "codemirror_mode": {
    "name": "ipython",
    "version": 3
   },
   "file_extension": ".py",
   "mimetype": "text/x-python",
   "name": "python",
   "nbconvert_exporter": "python",
   "pygments_lexer": "ipython3",
   "version": "3.6.3"
  }
 },
 "nbformat": 4,
 "nbformat_minor": 2
}
